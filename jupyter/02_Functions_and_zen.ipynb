{
 "cells": [
  {
   "cell_type": "markdown",
   "metadata": {
    "slideshow": {
     "slide_type": "slide"
    }
   },
   "source": [
    "## Advanced Python Course \n",
    "## MoBi - University Heidelberg 2019\n",
    "### by Christian Fufezan \n",
    "\n",
    "christian@fufezan.net\n",
    "\n",
    "https://fufezan.net\n",
    "\n",
    "\n",
    "<img src=\"https://octodex.github.com/images/Professortocat_v2.png\" width=\"100\" height=\"100\" style=\"float: right;\"/>"
   ]
  },
  {
   "cell_type": "code",
   "execution_count": null,
   "metadata": {
    "slideshow": {
     "slide_type": "notes"
    }
   },
   "outputs": [],
   "source": [
    "# %load topics.py\n",
    "import pandas as pd\n",
    "import psutil\n",
    "\n",
    "pd.set_option(\"display.max_colwidth\" , 300)\n",
    "\n",
    "df_high_level = pd.DataFrame(\n",
    "    data=[\n",
    "        {'day': 'Monday', 'Topic': 'Check-In, recaps and functions'},\n",
    "        {'day': 'Tuesday', 'Topic': 'Coding philosophy, data flow and some more useful std modules'},\n",
    "        {'day': 'Wednesday', 'Topic': 'Test driven development, python module, sphinx'},\n",
    "        {'day': 'Thursday', 'Topic': 'OOP - Object oriented programming'},\n",
    "        {'day': 'Friday', 'Topic': 'Q&A and code clean up'},\n",
    "        {'day': '', 'Topic': ''},\n",
    "        {'day': 'Monday', 'Topic': ''},\n",
    "        {'day': 'Tuesday', 'Topic': ''},\n",
    "        {'day': 'Wednesday', 'Topic': ''},\n",
    "        {'day': 'Thursday', 'Topic': ''},\n",
    "        {'day': 'Friday', 'Topic': 'Q&A and Tutorium'},\n",
    "\n",
    "\n",
    "    ]\n",
    ")\n",
    "\n",
    "df_details = pd.DataFrame(\n",
    "    data=[\n",
    "        {'day': 1, 'Topic': 'Check-in'},\n",
    "        {'day': 1, 'Topic': 'Procedural stuff'},\n",
    "        {'day': 1, 'Topic': \"python basic in 5'\"},\n",
    "        {'day': 1, 'Topic': 'lists and generators'},\n",
    "        {'day': 1, 'Topic': 'bisect module'},\n",
    "        # ----------------------------\n",
    "        {'day': 2, 'Topic': 'Functions'},\n",
    "        {'day': 2, 'Topic': 'Zen of Python and general coding philosophy'},\n",
    "        {'day': 2, 'Topic': 'csv module'},\n",
    "        {'day': 2, 'Topic': 'Collections module'},\n",
    "        {'day': 2, 'Topic': 'Exercises 1 & 2'},\n",
    "        # ----------------------------\n",
    "        {'day': 3, 'Topic': 'Basic plotting with plotly'},\n",
    "        {'day': 3, 'Topic': \"String format\"},\n",
    "        {'day': 3, 'Topic': 'dicts'},\n",
    "        {'day': 3, 'Topic': 'itertools'},\n",
    "        {'day': 3, 'Topic': 'data flow'},\n",
    "        {'day': 3, 'Topic': 'Exercises 3 & 4'},\n",
    "        # -----------------------------\n",
    "        {'day': 3, 'Topic': \"Basic Python package\"},\n",
    "        {'day': 3, 'Topic': \"Test Driven development\"},\n",
    "        {'day': 3, 'Topic': \"Auto documentation with Sphinx\"},\n",
    "        # -----------------------------\n",
    "        {'day': 4, 'Topic': \"OOP\"},\n",
    "    ]\n",
    ")\n",
    "\n",
    "\n",
    "def display_topics(day=1, df=None):\n",
    "    if df is None:\n",
    "        df = df_details\n",
    "    return df[df['day'] == day][['day', 'Topic']].head(20)\n"
   ]
  },
  {
   "cell_type": "markdown",
   "metadata": {},
   "source": [
    "# Day 2\n",
    "## Overview"
   ]
  },
  {
   "cell_type": "code",
   "execution_count": null,
   "metadata": {
    "scrolled": true,
    "slideshow": {
     "slide_type": "slide"
    }
   },
   "outputs": [],
   "source": [
    "display_topics(day=2)"
   ]
  },
  {
   "cell_type": "markdown",
   "metadata": {
    "slideshow": {
     "slide_type": "slide"
    }
   },
   "source": [
    "## Functions\n",
    "Functions are encapsulated code blocks. Useful because:\n",
    "* code is reusable (can be used in different parts of the code or even imported from other scripts)\n",
    "* can be documented \n",
    "* can be tested"
   ]
  },
  {
   "cell_type": "code",
   "execution_count": 2,
   "metadata": {},
   "outputs": [],
   "source": [
    "import hashlib\n",
    "def calculate_md5(string):\n",
    "    \"\"\"Calculate the md5 for a given string\n",
    "    \n",
    "    Args:\n",
    "        string (str) string for which the md5 hex digest is calculated. \n",
    "            can be byte of string instance\n",
    "        \n",
    "    Returns:\n",
    "        str: md5 hex digest\n",
    "    \"\"\"\n",
    "    m = hashlib.md5()\n",
    "    if isinstance(string, str):\n",
    "        m.update(string.encode(\"utf-8\"))\n",
    "    elif isinstance(string, bytes):\n",
    "        m.update(string)\n",
    "    else:\n",
    "        raise TypeError(\"This function supports only string input\")\n",
    "    return m.hexdigest()\n",
    "    "
   ]
  },
  {
   "cell_type": "code",
   "execution_count": 3,
   "metadata": {},
   "outputs": [
    {
     "data": {
      "text/plain": [
       "'671f4888cb99472cea6bc35c10388537'"
      ]
     },
     "execution_count": 3,
     "metadata": {},
     "output_type": "execute_result"
    }
   ],
   "source": [
    "calculate_md5(\"The path of the righteous man is beset on all sides by the iniquities of the selfish and the tyranny of evil men.\")"
   ]
  },
  {
   "cell_type": "code",
   "execution_count": null,
   "metadata": {},
   "outputs": [],
   "source": [
    "calculate_md5(b\"The path of the righteous man is beset on all sides by the iniquities of the selfish and the tyranny of evil men.\")"
   ]
  },
  {
   "cell_type": "markdown",
   "metadata": {},
   "source": [
    "SideNote: Personally, I find googles docstring format the most readable. We will use this format in day 3. Example of google style python docstrings can be found [here](https://www.sphinx-doc.org/en/1.5/ext/example_google.html). If you wonder why we test for byte strings and use encode, please read [this](https://realpython.com/python-encodings-guide/) well written blog post about it."
   ]
  },
  {
   "cell_type": "markdown",
   "metadata": {
    "slideshow": {
     "slide_type": "slide"
    }
   },
   "source": [
    "### Dangerous mistakes using functions\n",
    "What are the outcomes of these lines"
   ]
  },
  {
   "cell_type": "code",
   "execution_count": 6,
   "metadata": {},
   "outputs": [],
   "source": [
    "def extend_list_with_three_none(input_list=[]):\n",
    "    \"\"\"Extend input_list with 3 * None\"\"\"\n",
    "    input_list += [None, None, None]\n",
    "    return input_list"
   ]
  },
  {
   "cell_type": "code",
   "execution_count": 7,
   "metadata": {
    "scrolled": true
   },
   "outputs": [
    {
     "data": {
      "text/plain": [
       "['3', 2, 1, None, None, None]"
      ]
     },
     "execution_count": 7,
     "metadata": {},
     "output_type": "execute_result"
    }
   ],
   "source": [
    "extend_list_with_three_none(input_list=['3', 2 , 1])"
   ]
  },
  {
   "cell_type": "code",
   "execution_count": 8,
   "metadata": {
    "scrolled": true
   },
   "outputs": [
    {
     "data": {
      "text/plain": [
       "[None, None, None]"
      ]
     },
     "execution_count": 8,
     "metadata": {},
     "output_type": "execute_result"
    }
   ],
   "source": [
    "extend_list_with_three_none()"
   ]
  },
  {
   "cell_type": "code",
   "execution_count": 9,
   "metadata": {},
   "outputs": [
    {
     "data": {
      "text/plain": [
       "[None, None, None, None, None, None]"
      ]
     },
     "execution_count": 9,
     "metadata": {},
     "output_type": "execute_result"
    }
   ],
   "source": [
    "extend_list_with_three_none()"
   ]
  },
  {
   "cell_type": "code",
   "execution_count": 10,
   "metadata": {},
   "outputs": [
    {
     "data": {
      "text/plain": [
       "[None, None, None, None, None, None, None, None, None]"
      ]
     },
     "execution_count": 10,
     "metadata": {},
     "output_type": "execute_result"
    }
   ],
   "source": [
    "extend_list_with_three_none()"
   ]
  },
  {
   "cell_type": "markdown",
   "metadata": {
    "slideshow": {
     "slide_type": "slide"
    }
   },
   "source": [
    "## Setting up functions properly\n",
    "**Never** set default kwargs in functions to mutable objects as they are initialized once, exist until program is stopped and will behave strangly."
   ]
  },
  {
   "cell_type": "code",
   "execution_count": null,
   "metadata": {
    "slideshow": {
     "slide_type": "-"
    }
   },
   "outputs": [],
   "source": [
    "def extend_list_with_three_none_without_bug(input_list = None):\n",
    "    \"\"\"Extend input_list with 3 None\"\"\"\n",
    "    if input_list is None:\n",
    "        input_list = []\n",
    "    input_list += [None, None, None]\n",
    "    return input_list"
   ]
  },
  {
   "cell_type": "code",
   "execution_count": null,
   "metadata": {},
   "outputs": [],
   "source": [
    "extend_list_with_three_none_without_bug(input_list=['3', 2 , 1])"
   ]
  },
  {
   "cell_type": "code",
   "execution_count": null,
   "metadata": {},
   "outputs": [],
   "source": [
    "extend_list_with_three_none_without_bug()"
   ]
  },
  {
   "cell_type": "code",
   "execution_count": null,
   "metadata": {},
   "outputs": [],
   "source": [
    "extend_list_with_three_none_without_bug()"
   ]
  },
  {
   "cell_type": "code",
   "execution_count": null,
   "metadata": {},
   "outputs": [],
   "source": [
    "extend_list_with_three_none_without_bug()"
   ]
  },
  {
   "cell_type": "markdown",
   "metadata": {
    "slideshow": {
     "slide_type": "slide"
    }
   },
   "source": [
    "# The csv module\n",
    "\n",
    "There are several ways to interact with files that contain data in a \"comma separated value\" format.\n",
    "\n",
    "We cover the [basic csv module](https://docs.python.org/3/library/csv.html), as it is sometimes really helpful to retain only a fraction of the information of a csv to avoid memory overflow."
   ]
  },
  {
   "cell_type": "code",
   "execution_count": null,
   "metadata": {},
   "outputs": [],
   "source": [
    "import csv\n",
    "\n",
    "with open(\"../data/amino_acid_properties.csv\") as aap:\n",
    "    aap_reader = csv.DictReader(aap, delimiter=\",\") \n",
    "    for line_dict in aap_reader:\n",
    "        print(line_dict)\n",
    "        break"
   ]
  },
  {
   "cell_type": "markdown",
   "metadata": {},
   "source": [
    "We can also use the csv module to write csvs, or tab separated value files if we change the delimiter to \"\\t\""
   ]
  },
  {
   "cell_type": "code",
   "execution_count": null,
   "metadata": {
    "slideshow": {
     "slide_type": "slide"
    }
   },
   "outputs": [],
   "source": [
    "with open(\"../data/test.csv\", \"w\") as output:\n",
    "    aap_writer = csv.DictWriter(output, fieldnames=[\"Name\", \"3-letter code\"])\n",
    "    aap_writer.writeheader()\n",
    "    aap_writer.writerow({\"Name\": \"Alanine\", \"3-letter code\": \"Ala\", \"1-letter code\": \"A\"})\n",
    "\n",
    "# What do you expect to happen ?"
   ]
  },
  {
   "cell_type": "code",
   "execution_count": null,
   "metadata": {},
   "outputs": [],
   "source": [
    "!cat ../data/test.csv"
   ]
  },
  {
   "cell_type": "code",
   "execution_count": null,
   "metadata": {
    "slideshow": {
     "slide_type": "subslide"
    }
   },
   "outputs": [],
   "source": [
    "# fix it\n",
    "with open(\"c\", \"w\") as output:\n",
    "    aap_writer = csv.DictWriter(output, fieldnames=[\"Name\", \"3-letter code\"], extrasaction='ignore')\n",
    "    aap_writer.writeheader()\n",
    "    aap_writer.writerow({\"Name\": \"Alanine\", \"3-letter code\": \"Ala\", \"1-letter code\": \"A\"})"
   ]
  },
  {
   "cell_type": "markdown",
   "metadata": {
    "slideshow": {
     "slide_type": "slide"
    }
   },
   "source": [
    "# Collections - high performance containers ... sorta"
   ]
  },
  {
   "cell_type": "markdown",
   "metadata": {
    "slideshow": {
     "slide_type": "-"
    }
   },
   "source": [
    "## [collections.Counter](https://docs.python.org/3.7/library/collections.html#counter-objects)\n",
    "A counter tool is provided to support convenient and rapid tallies. For example"
   ]
  },
  {
   "cell_type": "code",
   "execution_count": 27,
   "metadata": {},
   "outputs": [
    {
     "data": {
      "text/plain": [
       "Counter({'\\n': 7,\n",
       "         'M': 8,\n",
       "         'Q': 14,\n",
       "         'R': 20,\n",
       "         'L': 24,\n",
       "         'A': 29,\n",
       "         'T': 28,\n",
       "         'S': 23,\n",
       "         'G': 20,\n",
       "         'C': 1,\n",
       "         'V': 31,\n",
       "         'N': 16,\n",
       "         'P': 17,\n",
       "         'D': 28,\n",
       "         'H': 10,\n",
       "         'K': 18,\n",
       "         'W': 3,\n",
       "         'I': 23,\n",
       "         'E': 21,\n",
       "         'Y': 13,\n",
       "         'F': 13})"
      ]
     },
     "execution_count": 27,
     "metadata": {},
     "output_type": "execute_result"
    }
   ],
   "source": [
    "from collections import Counter\n",
    "s = \"\"\"\n",
    "MQRLMMLLATSGACLGLLAVAAVAAAGANPAQRDTHSLLPTHRRQKRDWIWNQMHIDEEK\n",
    "NTSLPHHVGKIKSSVSRKNAKYLLKGEYVGKVFRVDAETGDVFAIERLDRENISEYHLTA\n",
    "VIVDKDTGENLETPSSFTIKVHDVNDNWPVFTHRLFNASVPESSAVGTSVISVTAVDADD\n",
    "PTVGDHASVMYQILKGKEYFAIDNSGRIITITKSLDREKQARYEIVVEARDAQGLRGDSG\n",
    "TATVLVTLQDINDNFPFFTQTKYTFVVPEDTRVGTSVGSLFVEDPDEPQNRMTKYSILRG\n",
    "DYQDAFTIETNPAHNEGIIKPMKPLDYEYIQQYSFIVEATDPTIDL RYMSPPAGNRAQVI\n",
    "\"\"\"\n",
    "Counter(s)"
   ]
  },
  {
   "cell_type": "code",
   "execution_count": 28,
   "metadata": {
    "slideshow": {
     "slide_type": "subslide"
    }
   },
   "outputs": [
    {
     "data": {
      "text/plain": [
       "Counter({'A': 2, 'B': 4, 'C': 2})"
      ]
     },
     "execution_count": 28,
     "metadata": {},
     "output_type": "execute_result"
    }
   ],
   "source": [
    "# Counter objects can be added together\n",
    "Counter(\"AABB\") + Counter(\"BBCC\")"
   ]
  },
  {
   "cell_type": "code",
   "execution_count": 29,
   "metadata": {},
   "outputs": [
    {
     "data": {
      "text/plain": [
       "Counter({(1, 1): 2, (1, 2): 1, (2, 1): 1})"
      ]
     },
     "execution_count": 29,
     "metadata": {},
     "output_type": "execute_result"
    }
   ],
   "source": [
    "# Works with any type of object that are comparable\n",
    "Counter([(1, 1), (1, 2), (2, 1), (1, 1)])"
   ]
  },
  {
   "cell_type": "markdown",
   "metadata": {
    "slideshow": {
     "slide_type": "slide"
    }
   },
   "source": [
    "## [collections.deque](https://docs.python.org/3.7/library/collections.html#deque-objects)\n",
    "Deque \\[deck\\] or double-ended queue can be used for many tasks, e.g. building a sliding window"
   ]
  },
  {
   "cell_type": "code",
   "execution_count": 30,
   "metadata": {},
   "outputs": [],
   "source": [
    "from collections import deque\n",
    "s = \"\"\"MQRLMMLLATSGACLGLLAVAAVAAAGANPAQRDTHSLLPTHRRQKRDWIWNQMHIDEEKNTSLPHHVGKIKSSVSRKNAKYLLKGEYVGKVFRVDAETGDVFAIERLDRENISEYHLTA\"\"\"\n",
    "window = deque([], maxlen=5)"
   ]
  },
  {
   "cell_type": "code",
   "execution_count": 31,
   "metadata": {},
   "outputs": [
    {
     "name": "stdout",
     "output_type": "stream",
     "text": [
      "deque(['M'], maxlen=5)\n",
      "deque(['M', 'Q'], maxlen=5)\n",
      "deque(['M', 'Q', 'R'], maxlen=5)\n",
      "deque(['M', 'Q', 'R', 'L'], maxlen=5)\n",
      "deque(['M', 'Q', 'R', 'L', 'M'], maxlen=5)\n",
      "deque(['Q', 'R', 'L', 'M', 'M'], maxlen=5)\n",
      "deque(['R', 'L', 'M', 'M', 'L'], maxlen=5)\n",
      "deque(['L', 'M', 'M', 'L', 'L'], maxlen=5)\n",
      "deque(['M', 'M', 'L', 'L', 'A'], maxlen=5)\n"
     ]
    }
   ],
   "source": [
    "for pos, aa in enumerate(s):\n",
    "    window.append(aa)\n",
    "    print(window)\n",
    "    if pos > 7:\n",
    "        break"
   ]
  },
  {
   "cell_type": "code",
   "execution_count": null,
   "metadata": {},
   "outputs": [],
   "source": [
    "Counter(window)"
   ]
  },
  {
   "cell_type": "markdown",
   "metadata": {
    "slideshow": {
     "slide_type": "slide"
    }
   },
   "source": [
    "## [collections.defaultdicts](https://docs.python.org/3.7/library/collections.html#defaultdict-objects)\n",
    "Defaultdicts are like dicts yet they treat missing values not with an error, thus testing if key exists is not neccessary and makes life easier :) Ofcourse, one needs to define the default value that is taken if a key is not existent. \n",
    "\n",
    "I use it a lot for counting \n",
    "```python\n",
    "counter[\"error\"] += 1\n",
    "```\n",
    "or collecting elements in lists\n",
    "```python\n",
    "sorter[\"typeA\"].append({\"name\": \"John\"})\n",
    "```"
   ]
  },
  {
   "cell_type": "code",
   "execution_count": 32,
   "metadata": {},
   "outputs": [],
   "source": [
    "from collections import defaultdict\n",
    "\n",
    "ddict_int = defaultdict(int)\n",
    "#                        ^---- default factory\n",
    "ddict_list = defaultdict(list)"
   ]
  },
  {
   "cell_type": "code",
   "execution_count": 33,
   "metadata": {},
   "outputs": [
    {
     "data": {
      "text/plain": [
       "defaultdict(int, {10: 10})"
      ]
     },
     "execution_count": 33,
     "metadata": {},
     "output_type": "execute_result"
    }
   ],
   "source": [
    "ddict_int[10] += 10\n",
    "ddict_int"
   ]
  },
  {
   "cell_type": "code",
   "execution_count": 34,
   "metadata": {},
   "outputs": [
    {
     "data": {
      "text/plain": [
       "0"
      ]
     },
     "execution_count": 34,
     "metadata": {},
     "output_type": "execute_result"
    }
   ],
   "source": [
    "ddict_int[0]"
   ]
  },
  {
   "cell_type": "code",
   "execution_count": 35,
   "metadata": {},
   "outputs": [],
   "source": [
    "def default_factory_with_prefilled_dictionary():\n",
    "    return {\"__name\": \"our custom dict\", \"errors\": 0}\n",
    "ddict_custom = defaultdict(default_factory_with_prefilled_dictionary)\n"
   ]
  },
  {
   "cell_type": "code",
   "execution_count": 37,
   "metadata": {},
   "outputs": [],
   "source": [
    "ddict_custom[10] += 10"
   ]
  },
  {
   "cell_type": "code",
   "execution_count": null,
   "metadata": {},
   "outputs": [],
   "source": [
    "ddict_custom[10]['errors'] += 10"
   ]
  },
  {
   "cell_type": "code",
   "execution_count": 38,
   "metadata": {},
   "outputs": [
    {
     "data": {
      "text/plain": [
       "defaultdict(<function __main__.default_factory_with_prefilled_dictionary()>,\n",
       "            {10: {'__name': 'our custom dict', 'errors': 10}})"
      ]
     },
     "execution_count": 38,
     "metadata": {},
     "output_type": "execute_result"
    }
   ],
   "source": [
    "ddict_custom"
   ]
  },
  {
   "cell_type": "code",
   "execution_count": null,
   "metadata": {},
   "outputs": [],
   "source": []
  },
  {
   "cell_type": "markdown",
   "metadata": {
    "slideshow": {
     "slide_type": "slide"
    }
   },
   "source": [
    "# Excersise No. 1\n",
    "\n",
    "## Count Amino acid propensity in human proteome\n",
    "\n",
    "Got to Uniprot and download the latests [here](https://www.uniprot.org/uniprot/?query=*&fil=organism%3A%22Homo+sapiens+%28Human%29+%5B9606%5D%22+AND+reviewed%3Ayes#)\n",
    "\n",
    "The file containes protein sequences in FASTA format, i.e.\n",
    "```txt\n",
    "> (( Identifier line ))\n",
    "(( Amino acid Sequence, can stretch over multiple lines ))\n",
    "> (( next identifier line ))\n",
    "```\n",
    "\n",
    "Write a standalone script that parses the uniprot fasta file and count amino acid frequency.\n",
    "The script should be callable like \n",
    "``` bash\n",
    "$ ./count_aas.py \"uniprot-filtered-proteome%3AUP000005640+AND+reviewed%3Ayes+AND+organism%3A%22Hom--.fasta\"\n",
    "```\n",
    "and produce an output like this\n",
    "``` bash\n",
    "A: xxxx\n",
    "C: yyyy\n",
    "D: zzzz\n",
    "...\n",
    "```"
   ]
  },
  {
   "cell_type": "markdown",
   "metadata": {
    "slideshow": {
     "slide_type": "slide"
    }
   },
   "source": [
    "# Excersise No. 2\n",
    "\n",
    "## Find those sequences that have the most extreme values for ..\n",
    "\n",
    "The data folder in this repo hold a file called **amino_acid_properties.csv**\n",
    "Copy your script from excersise no.1 and extent it to\n",
    "\n",
    "* parse the amino_acid_properties.csv as well using a *csv.DictReader*\n",
    "* find those sequences that have the largest and smallest mass\n",
    "* find those sequences that have the most extreme pIs\n",
    "* find those sequences that have on average the highest / lowest mass\n",
    "* the most extreme (average) hydropathy values"
   ]
  },
  {
   "cell_type": "markdown",
   "metadata": {
    "slideshow": {
     "slide_type": "slide"
    }
   },
   "source": [
    "## Excersise No. 2b*\n",
    "\n",
    "Plot the outputs of the scripts from excersise 1 & 2 using your favourit plotting library."
   ]
  },
  {
   "cell_type": "code",
   "execution_count": null,
   "metadata": {},
   "outputs": [],
   "source": []
  },
  {
   "cell_type": "code",
   "execution_count": null,
   "metadata": {},
   "outputs": [],
   "source": []
  }
 ],
 "metadata": {
  "celltoolbar": "Slideshow",
  "kernelspec": {
   "display_name": "Python 3",
   "language": "python",
   "name": "python3"
  },
  "language_info": {
   "codemirror_mode": {
    "name": "ipython",
    "version": 3
   },
   "file_extension": ".py",
   "mimetype": "text/x-python",
   "name": "python",
   "nbconvert_exporter": "python",
   "pygments_lexer": "ipython3",
   "version": "3.6.8"
  }
 },
 "nbformat": 4,
 "nbformat_minor": 2
}
