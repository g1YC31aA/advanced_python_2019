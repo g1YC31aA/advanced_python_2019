{
 "cells": [
  {
   "cell_type": "markdown",
   "metadata": {
    "slideshow": {
     "slide_type": "slide"
    }
   },
   "source": [
    "## Advanced Python Course \n",
    "## MoBi - University Heidelberg 2019\n",
    "### by Christian Fufezan \n",
    "\n",
    "christian@fufezan.net\n",
    "\n",
    "https://fufezan.net\n",
    "\n",
    "\n",
    "<img src=\"https://octodex.github.com/images/Professortocat_v2.png\" width=\"100\" height=\"100\" style=\"float: right;\"/>"
   ]
  },
  {
   "cell_type": "markdown",
   "metadata": {
    "slideshow": {
     "slide_type": "slide"
    }
   },
   "source": [
    "# Mission statement\n",
    "\n",
    "I'd like to teach you \n",
    "* What I think is advanced Python\n",
    "* Give you my view on how to code (and how not to code)\n",
    "* Introduce you to \n",
    "    * code structure\n",
    "    * code testing\n",
    "    * code documentation\n",
    "* Show case some useful python modules (that you might know of or not)\n",
    "* \\[ What you want to learn \\]\n"
   ]
  },
  {
   "cell_type": "markdown",
   "metadata": {
    "slideshow": {
     "slide_type": "subslide"
    }
   },
   "source": [
    "## Project show cases\n",
    "\n",
    "### pymzML\n",
    "\n",
    "pymzML is an extension to Python that offers\n",
    "* easy access to mass spectrometry (MS) data that allows the rapid development of tools\n",
    "* a very fast parser for mzML data, the standard mass spectrometry data format\n",
    "* a set of functions to compare and/or handle spectra\n",
    "* random access in compressed files\n",
    "* interactive data visualization\n",
    "\n",
    "M Kösters, J Leufken, S Schulze, K Sugimoto, J Klein, R P Zahedi, M Hippler, S A Leidel, C Fufezan; pymzML v2.0: introducing a highly compressed and seekable gzip format, Bioinformatics, doi: https://doi.org/10.1093/bioinformatics/bty046\n",
    "\n",
    "T Bald, J Barth, A Niehues, M Specht, M Hippler, C Fufezan; pymzML - Python module for high-throughput bioinformatics on mass spectrometry data, Bioinformatics, doi: https://doi.org/10.1093/bioinformatics/bts066 \n",
    "\n",
    "|![](https://travis-ci.org/pymzml/pymzML.svg?branch=master)|![](https://ci.appveyor.com/api/projects/status/4nlw52a9qn22921d?svg=true)|![](https://readthedocs.org/projects/pymzml/badge/?version=latest)|![](https://codecov.io/gh/pymzml/pymzml/branch/master/graph/badge.svg)|![](https://img.shields.io/pypi/v/pymzML.svg)|![](https://pepy.tech/badge/pymzml)|![](https://img.shields.io/badge/code%20style-black-000000.svg)|\n",
    "|:---:|:---:|:---:|:---:|:---:|:---:|:---:|\n",
    "|[travis](https://travis-ci.org/pymzml/pymzML)|[appveyor](https://ci.appveyor.com/project/fufezan-lab/pymzml)|[rtd](http://pymzml.readthedocs.io/en/latest/?badge=latest)|[codecov](https://codecov.io/gh/pymzml/pymzml)|[pypi](https://pypi.org/project/pymzML/)|[pepy](https://pepy.tech/project/pymzml)|[black](https://github.com/psf/black)|\n"
   ]
  },
  {
   "cell_type": "markdown",
   "metadata": {
    "slideshow": {
     "slide_type": "subslide"
    }
   },
   "source": [
    "### pyQms\n",
    "\n",
    "pyQms is an extension to Python that offers amongst other things\n",
    "* fast and accurate quantification of all high-res LC-MS data\n",
    "* full labeling and modification flexibility\n",
    "* full platform independence\n",
    "\n",
    "\n",
    "Leufken, J., Niehues, A., Hippler, M., Sarin, L. P., Hippler, M., Leidel, S. A., and Fufezan, C. (2017) pyQms enables universal and accurate quantification of mass spectrometry data. MCP, https://doi.org/10.1074/mcp.M117.068007\n",
    "\n",
    "|![](https://travis-ci.org/pyQms/pyqms.svg?branch=master)|![](https://ci.appveyor.com/api/projects/status/n4x2ug7h3ce4d49y?svg=true)|![](https://readthedocs.org/projects/pyqms/badge/?version=latest)|![](https://img.shields.io/pypi/v/pyqms.svg)|![](https://img.shields.io/badge/code%20style-black-000000.svg)|\n",
    "|:---:|:---:|:---:|:---:|:---:|\n",
    "|[travis](https://travis-ci.org/pyQms/pyqms)|[appveyor](https://ci.appveyor.com/project/fufezan-lab/pyqms)|[rtd](http://pyqms.readthedocs.io/en/latest/?badge=latest)|[pypi](https://pypi.org/project/pyqms/)|[black](https://github.com/psf/black)|\n"
   ]
  },
  {
   "cell_type": "markdown",
   "metadata": {
    "slideshow": {
     "slide_type": "subslide"
    }
   },
   "source": [
    "### ursgal\n",
    "\n",
    "ursgal - Universal Python Module Combining Common Bottom-Up Proteomics Tools for Large-Scale Analysis\n",
    "* Peptide spectrum matching with up to eight different search engines (some available in multiple versions), including three open modification search engines\n",
    "* Evaluation and post processing of search results with up to two different engines\n",
    "* Integration of search results from different search engines\n",
    "* De novo sequencing with up to two different search engines\n",
    "* Miscellaneous tools including the creation of a target decoy database as well as filtering, sanitizing and visualizing of results\n",
    "\n",
    "\n",
    "Kremer, L. P. M., Leufken, J., Oyunchimeg, P., Schulze, S. and Fufezan, C.\n",
    "(2015) Ursgal, Universal Python Module Combining Common Bottom-Up Proteomics Tools for Large-Scale Analysis, Journal of Proteome research, 15, 788-.\n",
    "DOI:10.1021/acs.jproteome.5b00860*\n",
    "\n",
    "|![](https://travis-ci.org/ursgal/ursgal.svg?branch=master)|![](https://ci.appveyor.com/api/projects/status/hel9rowah1u3rfe1?svg=true)|![](http://readthedocs.org/projects/ursgal/badge/?version=latest)|![](https://badge.fury.io/py/ursgal.svg)|\n",
    "|:---:|:---:|:---:|:---:|\n",
    "|[travis](https://travis-ci.org/ursgal/ursgal)|[appveyor](https://ci.appveyor.com/project/fufezan-lab/ursgal)|[rtd](http://ursgal.readthedocs.io/en/latest/?badge=latest)|[pypi](https://badge.fury.io/py/ursgal/)|\n"
   ]
  },
  {
   "cell_type": "markdown",
   "metadata": {
    "slideshow": {
     "slide_type": "subslide"
    }
   },
   "source": [
    "## a lasting name \n",
    "http://proteomicsnews.blogspot.com/2017/02/ursgal-combine-all-python-proteomics.html\n",
    "\n",
    "<img style=\"right\" src=\"./imgs/proteomics-blog.png\">"
   ]
  },
  {
   "cell_type": "code",
   "execution_count": 1,
   "metadata": {
    "slideshow": {
     "slide_type": "notes"
    },
    "pycharm": {
     "is_executing": false
    }
   },
   "outputs": [],
   "source": [
    "# %load topics.py\n",
    "import pandas as pd\n",
    "import psutil\n",
    "\n",
    "pd.set_option(\"display.max_colwidth\" , 300)\n",
    "\n",
    "df_high_level = pd.DataFrame(\n",
    "    data=[\n",
    "        {'day': 'Monday', 'Topic': 'Check-In, recaps and functions'},\n",
    "        {'day': 'Tuesday', 'Topic': 'Coding philosophy, data flow and some more useful std modules'},\n",
    "        {'day': 'Wednesday', 'Topic': 'Test driven development, python module, sphinx'},\n",
    "        {'day': 'Thursday', 'Topic': 'OOP - Object oriented programming'},\n",
    "        {'day': 'Friday', 'Topic': 'Q&A and code clean up'},\n",
    "        {'day': '', 'Topic': ''},\n",
    "        {'day': 'Monday', 'Topic': ''},\n",
    "        {'day': 'Tuesday', 'Topic': ''},\n",
    "        {'day': 'Wednesday', 'Topic': ''},\n",
    "        {'day': 'Thursday', 'Topic': ''},\n",
    "        {'day': 'Friday', 'Topic': 'Q&A and Tutorium'},\n",
    "\n",
    "\n",
    "    ]\n",
    ")\n",
    "\n",
    "df_details = pd.DataFrame(\n",
    "    data=[\n",
    "        {'day': 1, 'Topic': 'Check-in'},\n",
    "        {'day': 1, 'Topic': 'Procedural stuff'},\n",
    "        {'day': 1, 'Topic': \"python basic in 5'\"},\n",
    "        {'day': 1, 'Topic': 'lists and generators'},\n",
    "        {'day': 1, 'Topic': 'bisect module'},\n",
    "        # ----------------------------\n",
    "        {'day': 2, 'Topic': 'functions'},\n",
    "        {'day': 2, 'Topic': 'csv module'},\n",
    "        {'day': 2, 'Topic': 'Exercises'},\n",
    "        {'day': 2, 'Topic': 'Zen of Python and general coding philosophy'},\n",
    "        {'day': 2, 'Topic': 'basic plotting with plotly'},\n",
    "        {'day': 2, 'Topic': \"String format\"},\n",
    "        {'day': 2, 'Topic': 'dicts'},\n",
    "        {'day': 2, 'Topic': 'collections module'},\n",
    "        {'day': 2, 'Topic': 'itertools'},\n",
    "        {'day': 2, 'Topic': 'data flow'},\n",
    "        # -----------------------------\n",
    "        {'day': 3, 'Topic': \"Basic Python package\"},\n",
    "        {'day': 3, 'Topic': \"Test Driven development\"},\n",
    "        {'day': 3, 'Topic': \"Auto documentation with Sphinx\"},\n",
    "        # -----------------------------\n",
    "        {'day': 4, 'Topic': \"OOP\"},\n",
    "    ]\n",
    ")\n",
    "\n",
    "\n",
    "def display_topics(day=1, df=None):\n",
    "    if df is None:\n",
    "        df = df_details\n",
    "    return df[df['day'] == day][['day', 'Topic']].head(20)\n"
   ]
  },
  {
   "cell_type": "code",
   "execution_count": 70,
   "metadata": {},
   "outputs": [],
   "source": [
    "display_high_level_topics = df_high_level.head(20)"
   ]
  },
  {
   "cell_type": "markdown",
   "metadata": {
    "slideshow": {
     "slide_type": "slide"
    }
   },
   "source": [
    "# Full course overview"
   ]
  },
  {
   "cell_type": "code",
   "execution_count": 71,
   "metadata": {},
   "outputs": [
    {
     "data": {
      "text/html": [
       "<div>\n",
       "<style scoped>\n",
       "    .dataframe tbody tr th:only-of-type {\n",
       "        vertical-align: middle;\n",
       "    }\n",
       "\n",
       "    .dataframe tbody tr th {\n",
       "        vertical-align: top;\n",
       "    }\n",
       "\n",
       "    .dataframe thead th {\n",
       "        text-align: right;\n",
       "    }\n",
       "</style>\n",
       "<table border=\"1\" class=\"dataframe\">\n",
       "  <thead>\n",
       "    <tr style=\"text-align: right;\">\n",
       "      <th></th>\n",
       "      <th>day</th>\n",
       "      <th>Topic</th>\n",
       "    </tr>\n",
       "  </thead>\n",
       "  <tbody>\n",
       "    <tr>\n",
       "      <td>0</td>\n",
       "      <td>Monday</td>\n",
       "      <td>Check-In, recaps and functions</td>\n",
       "    </tr>\n",
       "    <tr>\n",
       "      <td>1</td>\n",
       "      <td>Tuesday</td>\n",
       "      <td>Coding philosophy, data flow and some more useful std modules</td>\n",
       "    </tr>\n",
       "    <tr>\n",
       "      <td>2</td>\n",
       "      <td>Wednesday</td>\n",
       "      <td>Test driven development, python module, sphinx</td>\n",
       "    </tr>\n",
       "    <tr>\n",
       "      <td>3</td>\n",
       "      <td>Thursday</td>\n",
       "      <td>OOP - Object oriented programming</td>\n",
       "    </tr>\n",
       "    <tr>\n",
       "      <td>4</td>\n",
       "      <td>Friday</td>\n",
       "      <td>Q&amp;A and code clean up</td>\n",
       "    </tr>\n",
       "    <tr>\n",
       "      <td>5</td>\n",
       "      <td></td>\n",
       "      <td></td>\n",
       "    </tr>\n",
       "    <tr>\n",
       "      <td>6</td>\n",
       "      <td>Monday</td>\n",
       "      <td></td>\n",
       "    </tr>\n",
       "    <tr>\n",
       "      <td>7</td>\n",
       "      <td>Tuesday</td>\n",
       "      <td></td>\n",
       "    </tr>\n",
       "    <tr>\n",
       "      <td>8</td>\n",
       "      <td>Wednesday</td>\n",
       "      <td></td>\n",
       "    </tr>\n",
       "    <tr>\n",
       "      <td>9</td>\n",
       "      <td>Thursday</td>\n",
       "      <td></td>\n",
       "    </tr>\n",
       "    <tr>\n",
       "      <td>10</td>\n",
       "      <td>Friday</td>\n",
       "      <td>Q&amp;A and Tutorium</td>\n",
       "    </tr>\n",
       "  </tbody>\n",
       "</table>\n",
       "</div>"
      ],
      "text/plain": [
       "          day                                                          Topic\n",
       "0      Monday                                 Check-In, recaps and functions\n",
       "1     Tuesday  Coding philosophy, data flow and some more useful std modules\n",
       "2   Wednesday                 Test driven development, python module, sphinx\n",
       "3    Thursday                              OOP - Object oriented programming\n",
       "4      Friday                                          Q&A and code clean up\n",
       "5                                                                           \n",
       "6      Monday                                                               \n",
       "7     Tuesday                                                               \n",
       "8   Wednesday                                                               \n",
       "9    Thursday                                                               \n",
       "10     Friday                                               Q&A and Tutorium"
      ]
     },
     "execution_count": 71,
     "metadata": {},
     "output_type": "execute_result"
    }
   ],
   "source": [
    "display_high_level_topics"
   ]
  },
  {
   "cell_type": "markdown",
   "metadata": {},
   "source": [
    "# Day 1\n",
    "## Overview"
   ]
  },
  {
   "cell_type": "code",
   "execution_count": 72,
   "metadata": {
    "scrolled": true
   },
   "outputs": [
    {
     "data": {
      "text/html": [
       "<div>\n",
       "<style scoped>\n",
       "    .dataframe tbody tr th:only-of-type {\n",
       "        vertical-align: middle;\n",
       "    }\n",
       "\n",
       "    .dataframe tbody tr th {\n",
       "        vertical-align: top;\n",
       "    }\n",
       "\n",
       "    .dataframe thead th {\n",
       "        text-align: right;\n",
       "    }\n",
       "</style>\n",
       "<table border=\"1\" class=\"dataframe\">\n",
       "  <thead>\n",
       "    <tr style=\"text-align: right;\">\n",
       "      <th></th>\n",
       "      <th>day</th>\n",
       "      <th>Topic</th>\n",
       "    </tr>\n",
       "  </thead>\n",
       "  <tbody>\n",
       "    <tr>\n",
       "      <td>0</td>\n",
       "      <td>1</td>\n",
       "      <td>Check-in</td>\n",
       "    </tr>\n",
       "    <tr>\n",
       "      <td>1</td>\n",
       "      <td>1</td>\n",
       "      <td>Procedural stuff</td>\n",
       "    </tr>\n",
       "    <tr>\n",
       "      <td>2</td>\n",
       "      <td>1</td>\n",
       "      <td>python basic in 5'</td>\n",
       "    </tr>\n",
       "    <tr>\n",
       "      <td>3</td>\n",
       "      <td>1</td>\n",
       "      <td>lists and generators</td>\n",
       "    </tr>\n",
       "    <tr>\n",
       "      <td>4</td>\n",
       "      <td>1</td>\n",
       "      <td>bisect module</td>\n",
       "    </tr>\n",
       "  </tbody>\n",
       "</table>\n",
       "</div>"
      ],
      "text/plain": [
       "   day                 Topic\n",
       "0    1              Check-in\n",
       "1    1      Procedural stuff\n",
       "2    1    python basic in 5'\n",
       "3    1  lists and generators\n",
       "4    1         bisect module"
      ]
     },
     "execution_count": 72,
     "metadata": {},
     "output_type": "execute_result"
    }
   ],
   "source": [
    "display_topics(day=1)"
   ]
  },
  {
   "cell_type": "markdown",
   "metadata": {
    "slideshow": {
     "slide_type": "slide"
    }
   },
   "source": [
    "# Python basic type\n",
    "* int\n",
    "* float\n",
    "* str\n",
    "* list\n",
    "* tuple\n",
    "* set\n",
    "* dict\n",
    "\n",
    "Have been covered else where. Quick recap, what's the outcome of these lines ..."
   ]
  },
  {
   "cell_type": "code",
   "execution_count": 1,
   "metadata": {},
   "outputs": [
    {
     "data": {
      "text/plain": [
       "float"
      ]
     },
     "execution_count": 1,
     "metadata": {},
     "output_type": "execute_result"
    }
   ],
   "source": [
    "a = 34 + 3.2\n",
    "type(a)"
   ]
  },
  {
   "cell_type": "code",
   "execution_count": 3,
   "metadata": {},
   "outputs": [
    {
     "data": {
      "text/plain": [
       "'neve ro ddo reveN'"
      ]
     },
     "execution_count": 3,
     "metadata": {},
     "output_type": "execute_result"
    }
   ],
   "source": [
    "a = \"Never odd\" + \" or even\"\n",
    "a[::-1]"
   ]
  },
  {
   "cell_type": "code",
   "execution_count": null,
   "metadata": {},
   "outputs": [],
   "source": [
    "a[0] = 'n'"
   ]
  },
  {
   "cell_type": "code",
   "execution_count": 6,
   "metadata": {},
   "outputs": [
    {
     "data": {
      "text/plain": [
       "['Never', 'odd', 'or', 'even']"
      ]
     },
     "execution_count": 6,
     "metadata": {},
     "output_type": "execute_result"
    }
   ],
   "source": [
    "a.split()"
   ]
  },
  {
   "cell_type": "code",
   "execution_count": null,
   "metadata": {},
   "outputs": [],
   "source": [
    "{ [12,32]: \"Well done ... \"}"
   ]
  },
  {
   "cell_type": "code",
   "execution_count": null,
   "metadata": {},
   "outputs": [],
   "source": [
    "set([12, 13, 14]) & set([13, 14, 15])"
   ]
  },
  {
   "cell_type": "markdown",
   "metadata": {
    "slideshow": {
     "slide_type": "slide"
    }
   },
   "source": [
    "## Python comparisons\n",
    "* \\>\n",
    "* \\>=\n",
    "* ==\n",
    "* <=\n",
    "* <\n",
    "* is\n",
    "\n",
    "Have been covered elsewhere. Quick recap, what's the outpcome of these lines ..."
   ]
  },
  {
   "cell_type": "code",
   "execution_count": 7,
   "metadata": {},
   "outputs": [
    {
     "data": {
      "text/plain": [
       "True"
      ]
     },
     "execution_count": 7,
     "metadata": {},
     "output_type": "execute_result"
    }
   ],
   "source": [
    "a = 42\n",
    "39.9 < a <= 42"
   ]
  },
  {
   "cell_type": "code",
   "execution_count": 8,
   "metadata": {},
   "outputs": [
    {
     "name": "stdout",
     "output_type": "stream",
     "text": [
      "a is b? False\n",
      "a == b True\n"
     ]
    }
   ],
   "source": [
    "a = \"Nature is lethal but it doesn't hold a candle to man.\"\n",
    "b = \"Nature is lethal but it doesn't hold a candle to man.\"\n",
    "print(\"a is b?\", a is b)\n",
    "print(\"a == b\", a == b)"
   ]
  },
  {
   "cell_type": "code",
   "execution_count": 26,
   "metadata": {
    "slideshow": {
     "slide_type": "subslide"
    }
   },
   "outputs": [],
   "source": [
    "# thinking that objects eval to the same ensures equality is one major source of errors\n",
    "def release_password(authentication=False):\n",
    "    answer = \"Not authenticated\"\n",
    "    if authentication:\n",
    "        answer = \"Here is your pasword\"\n",
    "    return answer"
   ]
  },
  {
   "cell_type": "code",
   "execution_count": 8,
   "metadata": {},
   "outputs": [
    {
     "data": {
      "text/plain": [
       "'Here is your pasword'"
      ]
     },
     "execution_count": 8,
     "metadata": {},
     "output_type": "execute_result"
    }
   ],
   "source": [
    "release_password(authentication=True)"
   ]
  },
  {
   "cell_type": "code",
   "execution_count": 9,
   "metadata": {},
   "outputs": [
    {
     "data": {
      "text/plain": [
       "'Not authenticated'"
      ]
     },
     "execution_count": 9,
     "metadata": {},
     "output_type": "execute_result"
    }
   ],
   "source": [
    "release_password(authentication=[1])"
   ]
  },
  {
   "cell_type": "code",
   "execution_count": 10,
   "metadata": {},
   "outputs": [
    {
     "data": {
      "text/plain": [
       "'Not authenticated'"
      ]
     },
     "execution_count": 10,
     "metadata": {},
     "output_type": "execute_result"
    }
   ],
   "source": [
    "release_password(authentication=[])"
   ]
  },
  {
   "cell_type": "code",
   "execution_count": 11,
   "metadata": {
    "slideshow": {
     "slide_type": "subslide"
    }
   },
   "outputs": [],
   "source": [
    "# thinking that objectes eval to the same ensures equality is one major source of errors\n",
    "def release_password(authentication=False):\n",
    "    answer = \"Not authenticated\"\n",
    "    if authentication == True:\n",
    "        answer = \"Here is your pasword\"\n",
    "    return answer"
   ]
  },
  {
   "cell_type": "code",
   "execution_count": 31,
   "metadata": {
    "scrolled": true
   },
   "outputs": [
    {
     "name": "stdout",
     "output_type": "stream",
     "text": [
      "[] is True? False\n",
      "[1] is True? False\n"
     ]
    }
   ],
   "source": [
    "print(\"[] is True?\", [] is True)\n",
    "print(\"[1] is True?\", [1] is True) "
   ]
  },
  {
   "cell_type": "code",
   "execution_count": 1,
   "metadata": {},
   "outputs": [
    {
     "name": "stdout",
     "output_type": "stream",
     "text": [
      "[] == True? False\n",
      "[1] == True? False\n"
     ]
    }
   ],
   "source": [
    "print(\"[] == True?\", [] == True)\n",
    "print(\"[1] == True?\", [1] == True) "
   ]
  },
  {
   "cell_type": "code",
   "execution_count": 2,
   "metadata": {},
   "outputs": [
    {
     "name": "stdout",
     "output_type": "stream",
     "text": [
      "bool([]) == True? False\n",
      "bool([1]) == True? True\n"
     ]
    }
   ],
   "source": [
    "print(\"bool([]) == True?\", bool([]) == True)\n",
    "print(\"bool([1]) == True?\", bool([1]) == True) "
   ]
  },
  {
   "cell_type": "markdown",
   "metadata": {
    "slideshow": {
     "slide_type": "slide"
    }
   },
   "source": [
    "## Other operators\n",
    "### membership operators"
   ]
  },
  {
   "cell_type": "code",
   "execution_count": null,
   "metadata": {},
   "outputs": [],
   "source": [
    "'dog' in 'Not sure I went out with the dOg'"
   ]
  },
  {
   "cell_type": "code",
   "execution_count": null,
   "metadata": {},
   "outputs": [],
   "source": [
    "'dog' in ('d0g', 'dOg', 'dog', 'dot')"
   ]
  },
  {
   "cell_type": "markdown",
   "metadata": {},
   "source": [
    "### logical operators"
   ]
  },
  {
   "cell_type": "code",
   "execution_count": null,
   "metadata": {},
   "outputs": [],
   "source": [
    "(1 is True) or (1 == True) "
   ]
  },
  {
   "cell_type": "code",
   "execution_count": 33,
   "metadata": {},
   "outputs": [
    {
     "data": {
      "text/plain": [
       "4"
      ]
     },
     "execution_count": 33,
     "metadata": {},
     "output_type": "execute_result"
    }
   ],
   "source": [
    "# Does not have to be boolean operations ... though imho less readable\n",
    "4 or 3"
   ]
  },
  {
   "cell_type": "markdown",
   "metadata": {
    "slideshow": {
     "slide_type": "slide"
    }
   },
   "source": [
    "## Object references"
   ]
  },
  {
   "cell_type": "code",
   "execution_count": 36,
   "metadata": {
    "slideshow": {
     "slide_type": "-"
    }
   },
   "outputs": [
    {
     "name": "stdout",
     "output_type": "stream",
     "text": [
      "a = {}  id:4565606480\n",
      "b = {}  id:4565609920\n",
      "a is b? False\n",
      "Adding 1 to a..\n",
      "a = {12: 12}  id:4565606480\n",
      "b = {}  id:4565609920\n",
      "a is b? False\n"
     ]
    }
   ],
   "source": [
    "a = {}\n",
    "b = a.copy()\n",
    "print(\"a = {0}  id:{1}\".format(a, id(a)))\n",
    "print(\"b = {0}  id:{1}\".format(b, id(b)))\n",
    "print(\"a is b?\", a is b)\n",
    "print(\"Adding 1 to a..\")\n",
    "a[12] = 12\n",
    "print(\"a = {0}  id:{1}\".format(a, id(a)))\n",
    "print(\"b = {0}  id:{1}\".format(b, id(b)))\n",
    "print(\"a is b?\", a is b)"
   ]
  },
  {
   "cell_type": "markdown",
   "metadata": {
    "slideshow": {
     "slide_type": "slide"
    }
   },
   "source": [
    "## lists and generators"
   ]
  },
  {
   "cell_type": "code",
   "execution_count": 37,
   "metadata": {},
   "outputs": [
    {
     "data": {
      "text/plain": [
       "[0, 1, 2, 3, 4, 5, 6, 7, 8, 9, 10]"
      ]
     },
     "execution_count": 37,
     "metadata": {},
     "output_type": "execute_result"
    }
   ],
   "source": [
    "a = [x for x in range(11)]\n",
    "a"
   ]
  },
  {
   "cell_type": "code",
   "execution_count": 39,
   "metadata": {},
   "outputs": [
    {
     "data": {
      "text/plain": [
       "[0, 1, 2, 3, 4, 5, 6, 7, 8, 9, 10]"
      ]
     },
     "execution_count": 39,
     "metadata": {},
     "output_type": "execute_result"
    }
   ],
   "source": [
    "a = []\n",
    "for x in range(11):\n",
    "    a.append(x)\n",
    "a"
   ]
  },
  {
   "cell_type": "code",
   "execution_count": 41,
   "metadata": {},
   "outputs": [
    {
     "data": {
      "text/plain": [
       "{0: 0, 1: 1, 2: 4, 3: 9, 4: 16, 5: 25, 6: 36, 7: 49, 8: 64, 9: 81, 10: 100}"
      ]
     },
     "execution_count": 41,
     "metadata": {},
     "output_type": "execute_result"
    }
   ],
   "source": [
    "a = {x: x**2 for x in range(11)}\n",
    "a"
   ]
  },
  {
   "cell_type": "code",
   "execution_count": 42,
   "metadata": {},
   "outputs": [
    {
     "name": "stdout",
     "output_type": "stream",
     "text": [
      "\n",
      "Object 1 allocates 9032 bytes\n",
      "Object 2 allocates 128 bytes\n",
      "\n"
     ]
    }
   ],
   "source": [
    "import sys\n",
    "\n",
    "object_1 = [x/10. for x in range(1000)]\n",
    "object_2 = (x/10. for x in range(1000))\n",
    "\n",
    "print(\"\"\"\n",
    "Object 1 allocates {0} bytes\n",
    "Object 2 allocates {1} bytes\n",
    "\"\"\".format(\n",
    "    sys.getsizeof(object_1),\n",
    "    sys.getsizeof(object_2),\n",
    "))\n",
    "\n"
   ]
  },
  {
   "cell_type": "markdown",
   "metadata": {
    "slideshow": {
     "slide_type": "slide"
    }
   },
   "source": [
    "quick recap, what's the result of the following lines"
   ]
  },
  {
   "cell_type": "code",
   "execution_count": 29,
   "metadata": {},
   "outputs": [],
   "source": [
    "a = [1, 2, 5, 7]"
   ]
  },
  {
   "cell_type": "code",
   "execution_count": 30,
   "metadata": {},
   "outputs": [
    {
     "data": {
      "text/plain": [
       "['>>', 1, 2, 5, 7]"
      ]
     },
     "execution_count": 30,
     "metadata": {},
     "output_type": "execute_result"
    }
   ],
   "source": [
    "a.insert(0, \">>\")\n",
    "a"
   ]
  },
  {
   "cell_type": "code",
   "execution_count": 31,
   "metadata": {},
   "outputs": [
    {
     "data": {
      "text/plain": [
       "[1, 2, 5, 7]"
      ]
     },
     "execution_count": 31,
     "metadata": {},
     "output_type": "execute_result"
    }
   ],
   "source": [
    "a.pop(0)\n",
    "a"
   ]
  },
  {
   "cell_type": "code",
   "execution_count": 33,
   "metadata": {},
   "outputs": [
    {
     "name": "stdout",
     "output_type": "stream",
     "text": [
      "1\n",
      "2\n",
      "5\n",
      "7\n"
     ]
    }
   ],
   "source": [
    "for element in a:\n",
    "    print(element)"
   ]
  },
  {
   "cell_type": "markdown",
   "metadata": {
    "slideshow": {
     "slide_type": "subslide"
    }
   },
   "source": [
    "how to get the position of the element during iteration?"
   ]
  },
  {
   "cell_type": "code",
   "execution_count": 49,
   "metadata": {},
   "outputs": [],
   "source": [
    "a = [('King', 1), ('Queen', 2), ('Knight', 'A')]"
   ]
  },
  {
   "cell_type": "code",
   "execution_count": 50,
   "metadata": {},
   "outputs": [
    {
     "name": "stdout",
     "output_type": "stream",
     "text": [
      "At position: 0 we have: King\n",
      "At position: 1 we have: Queen\n",
      "At position: 2 we have: Knight\n"
     ]
    }
   ],
   "source": [
    "for pos, (element, element2) in enumerate(a):\n",
    "    print(\"At position:\", pos, \"we have:\", element)"
   ]
  },
  {
   "cell_type": "markdown",
   "metadata": {
    "slideshow": {
     "slide_type": "slide"
    }
   },
   "source": [
    "## bisect module\n",
    "\n",
    "Bisect module allows to find positions in a sorted list into which a given element can be inserted without loosing its sorting.\n",
    "\n",
    "Essential element in binary tree searches and similar techniques."
   ]
  },
  {
   "cell_type": "code",
   "execution_count": 51,
   "metadata": {},
   "outputs": [
    {
     "data": {
      "text/plain": [
       "2"
      ]
     },
     "execution_count": 51,
     "metadata": {},
     "output_type": "execute_result"
    }
   ],
   "source": [
    "import bisect\n",
    "a = [1, 3, 6, 12, 14, 16]\n",
    "bisect.bisect(a, 4)"
   ]
  },
  {
   "cell_type": "code",
   "execution_count": 52,
   "metadata": {},
   "outputs": [
    {
     "data": {
      "text/plain": [
       "2"
      ]
     },
     "execution_count": 52,
     "metadata": {},
     "output_type": "execute_result"
    }
   ],
   "source": [
    "bisect.bisect_right(a, 3)"
   ]
  },
  {
   "cell_type": "code",
   "execution_count": 53,
   "metadata": {},
   "outputs": [
    {
     "data": {
      "text/plain": [
       "1"
      ]
     },
     "execution_count": 53,
     "metadata": {},
     "output_type": "execute_result"
    }
   ],
   "source": [
    "bisect.bisect_left(a, 3)"
   ]
  },
  {
   "cell_type": "code",
   "execution_count": 54,
   "metadata": {},
   "outputs": [
    {
     "data": {
      "text/plain": [
       "1"
      ]
     },
     "execution_count": 54,
     "metadata": {},
     "output_type": "execute_result"
    }
   ],
   "source": [
    "# also works with more complex lists, as log the elements are comparable\n",
    "a = [(1, \"First\"), (3, \"Third\"), (6, \"too late\")]\n",
    "bisect.bisect(a, (3, \"Really add some more stuff\"))"
   ]
  },
  {
   "cell_type": "markdown",
   "metadata": {},
   "source": [
    "why 1 and not 2 ?"
   ]
  },
  {
   "cell_type": "code",
   "execution_count": null,
   "metadata": {},
   "outputs": [],
   "source": []
  }
 ],
 "metadata": {
  "celltoolbar": "Slideshow",
  "kernelspec": {
   "display_name": "Python 3",
   "language": "python",
   "name": "python3"
  },
  "language_info": {
   "codemirror_mode": {
    "name": "ipython",
    "version": 3
   },
   "file_extension": ".py",
   "mimetype": "text/x-python",
   "name": "python",
   "nbconvert_exporter": "python",
   "pygments_lexer": "ipython3",
   "version": "3.7.5"
  }
 },
 "nbformat": 4,
 "nbformat_minor": 2
}